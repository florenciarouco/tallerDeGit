{
  "cells": [
    {
      "cell_type": "markdown",
      "metadata": {
        "id": "view-in-github",
        "colab_type": "text"
      },
      "source": [
        "<a href=\"https://colab.research.google.com/github/florenciarouco/tallerDeGit/blob/main/labo04_nro_de_condicion.ipynb\" target=\"_parent\"><img src=\"https://colab.research.google.com/assets/colab-badge.svg\" alt=\"Open In Colab\"/></a>"
      ]
    },
    {
      "cell_type": "markdown",
      "metadata": {
        "id": "Kq98NiDqWK-l"
      },
      "source": [
        "# **Laboratorio N°5: Número de Condición**\n"
      ]
    },
    {
      "cell_type": "code",
      "execution_count": 4,
      "metadata": {
        "id": "6atTtblVBdyJ"
      },
      "outputs": [],
      "source": [
        "import numpy as np\n",
        "import matplotlib.pyplot as plt"
      ]
    },
    {
      "cell_type": "markdown",
      "metadata": {
        "id": "FZ4ubXwRWkxS"
      },
      "source": [
        "## Ejercicio 1"
      ]
    },
    {
      "cell_type": "markdown",
      "metadata": {
        "id": "g2c9AtS1miT3"
      },
      "source": [
        "En este ejercicio vamos a probar o refutar algunas propiedades sobre el numero de condicion.\n",
        "En cada item tendremos un propiedad que puede ser verdadera o falsa.\n",
        " - En caso de ser verdadera: dar su demostracion.\n",
        " - En caso de ser falsa: utilizar numpy para dar un contraejemplo.\n",
        "\n",
        "Utilizar el comando `np.linalg.cond`."
      ]
    },
    {
      "cell_type": "markdown",
      "metadata": {
        "id": "A-372eKMoxfv"
      },
      "source": [
        "**(a)** $Cond_2(A)$ + $Cond_2(B)$ = $Cond_2(A+B)$"
      ]
    },
    {
      "cell_type": "code",
      "execution_count": null,
      "metadata": {
        "id": "Yv2s8jG8mLCf",
        "outputId": "ecca9447-cb39-4a7a-a723-7c542ea656d1"
      },
      "outputs": [
        {
          "name": "stdout",
          "output_type": "stream",
          "text": [
            "6.241621766312493e+17\n",
            "4.6573401274897896e+16\n"
          ]
        }
      ],
      "source": [
        "A = np.array([[1,2,3],[4,5,6],[7,8,9]])\n",
        "B = np.array([[10,11,12],[13,14,15],[16,17,18]])\n",
        "\n",
        "print(np.linalg.cond(A) + np.linalg.cond(B))\n",
        "print(np.linalg.cond(A + B))"
      ]
    },
    {
      "cell_type": "markdown",
      "metadata": {
        "id": "QwSNVeEdrQpB"
      },
      "source": [
        "**(b)** $Cond_1(A)$ - $Cond_1(B)$ = $Cond_2(A-B)$"
      ]
    },
    {
      "cell_type": "code",
      "execution_count": null,
      "metadata": {
        "id": "47LDxl3IrXaP",
        "outputId": "6846cb99-6a73-4217-d30d-4823243cf519"
      },
      "outputs": [
        {
          "name": "stdout",
          "output_type": "stream",
          "text": [
            "-inf\n",
            "inf\n"
          ]
        }
      ],
      "source": [
        "A = np.array([[1,2,3],[4,5,6],[7,8,9]])\n",
        "B = np.array([[10,11,12],[13,14,15],[16,17,18]])\n",
        "\n",
        "print(np.linalg.cond(A,1) - np.linalg.cond(B,1))\n",
        "print(np.linalg.cond(A - B))"
      ]
    },
    {
      "cell_type": "markdown",
      "metadata": {
        "id": "0t1kpuIerYgi"
      },
      "source": [
        "**(c)** $Cond_2(A)$ * $Cond_2(B)$ = $Cond_2(A.B)$"
      ]
    },
    {
      "cell_type": "code",
      "execution_count": 5,
      "metadata": {
        "id": "4HB6oTEcrhdf",
        "colab": {
          "base_uri": "https://localhost:8080/"
        },
        "outputId": "e97a6564-620a-48a3-ca2d-8419a08109f4"
      },
      "outputs": [
        {
          "output_type": "stream",
          "name": "stdout",
          "text": [
            "2.2346212641162703e+34\n",
            "4798.530272281449\n"
          ]
        }
      ],
      "source": [
        "A = np.array([[1,2,3],[4,5,6],[7,8,9]])\n",
        "B = np.array([[10,11,12],[13,14,15],[16,17,18]])\n",
        "\n",
        "print(np.linalg.cond(A) * np.linalg.cond(B))\n",
        "print(np.linalg.cond(A * B))"
      ]
    },
    {
      "cell_type": "markdown",
      "metadata": {
        "id": "IUuL-FA3WiT9"
      },
      "source": [
        "## Ejercicio 2"
      ]
    },
    {
      "cell_type": "markdown",
      "metadata": {
        "id": "8d_oakt6WyjI"
      },
      "source": [
        "El objetivo de este ejercicio es estudiar el número de condición de\n",
        "algunas matrices a medida que su tamaño aumenta.\n"
      ]
    },
    {
      "cell_type": "markdown",
      "metadata": {
        "id": "mtcF4XEcWw2X"
      },
      "source": [
        "\n",
        "**(a)** Programar funciones que, dado $n \\in \\mathbb{N}$, devuelvan las siguientes matrices de $\\mathbb{R}^{n\\times n}$. La función que define $B_n$ ya viene dada."
      ]
    },
    {
      "cell_type": "markdown",
      "metadata": {
        "id": "b_WTw5VmMcXY"
      },
      "source": [
        "\n",
        "\\begin{equation*}\n",
        "A_n=\n",
        "\\begin{pmatrix}\n",
        "\\frac{1}{n} & 0 & 0 & \\cdots  & n^2\\\\\n",
        "0 & \\frac{1}{n} & 0 & \\cdots & 0 \\\\\n",
        "0 & 0 & \\frac{1}{n} & \\cdots & 0\\\\\n",
        "\\vdots & \\vdots & \\vdots  & \\ddots & \\vdots\\\\\n",
        "1 & 0 & 0 & \\cdots &  \\frac{1}{n}\\\\\n",
        "\\end{pmatrix}\n",
        "\\qquad\n",
        "B_n=\n",
        "\\begin{pmatrix}\n",
        "4 & 1 & 0 & \\cdots & 0 & 0\\\\\n",
        "1 & 4 & 1 & \\cdots & 0 & 0 \\\\\n",
        "0 & 1 & 4 & \\ddots &  & \\vdots\\\\\n",
        "\\vdots & \\vdots & \\ddots & \\ddots & \\ddots & \\vdots \\\\\n",
        "0 & 0 &  & \\ddots & 4 & 1\\\\\n",
        "0 & 0 & \\cdots & \\cdots & 1 & 4 \\\\\n",
        "\\end{pmatrix}\n",
        "\\qquad\n",
        "H_n=\n",
        "\\begin{pmatrix}\n",
        "1 & \\frac{1}{2} & \\frac{1}{3} & \\cdots  & \\frac{1}{n}\\\\\n",
        "\\frac{1}{2} & \\frac{1}{3} & \\frac{1}{4} & \\cdots & \\frac{1}{n+1} \\\\\n",
        "\\frac{1}{3} & \\frac{1}{4} & \\frac{1}{5} & \\cdots & \\frac{1}{n+2}\\\\\n",
        "\\vdots & \\vdots & \\vdots  & \\ddots & \\vdots\\\\\n",
        "\\frac{1}{n} & \\frac{1}{n+1} & \\frac{1}{n+2} & \\cdots &  \\frac{1}{2n-1}\\\\\n",
        "\\end{pmatrix}\n",
        "\\end{equation*}\n",
        "\n"
      ]
    },
    {
      "cell_type": "markdown",
      "metadata": {
        "id": "xtdPNSyPW1VA"
      },
      "source": [
        "**Sugerencia:** Utilizar la función `np.diag` que recibe un array de números y genera una matriz diagonal con elementos dados por el array.\n",
        "\n",
        "\n"
      ]
    },
    {
      "cell_type": "code",
      "execution_count": 18,
      "metadata": {
        "id": "k6zUVVx1TFIK",
        "colab": {
          "base_uri": "https://localhost:8080/"
        },
        "outputId": "42984d80-62a8-4cc7-c1f4-4d1b2ceccead"
      },
      "outputs": [
        {
          "output_type": "stream",
          "name": "stdout",
          "text": [
            "[[ 0.2  0.   0.   0.  25. ]\n",
            " [ 0.   0.2  0.   0.   0. ]\n",
            " [ 0.   0.   0.2  0.   0. ]\n",
            " [ 0.   0.   0.   0.2  0. ]\n",
            " [ 1.   0.   0.   0.   0.2]]\n"
          ]
        }
      ],
      "source": [
        "def matriz_B(n):\n",
        "  B = np.eye(n, k=-1) + 4*np.eye(n, k=0) + np.eye(n, k=1)\n",
        "  return B\n",
        "\n",
        "#print(matriz_B(5))\n",
        "\n",
        "\n",
        "def matriz_A(n) :\n",
        "    A = (1/n)*np.eye(n , k= 0) + np.eye(n , k = -n+1) +(n*n)*np.eye(n , k = n-1)\n",
        "    return A\n",
        "\n",
        "\n",
        "print(matriz_A(5))\n",
        "\n",
        "def diagonal(n):\n",
        "    a = []\n",
        "    for j in range (1,n+1):\n",
        "        l = []\n",
        "        for i in range(j, n+1):\n",
        "            l.append(1/(2*i-j))\n",
        "        a.append(l)\n",
        "    return a\n",
        "#print(diagonal(3))\n",
        "\n",
        "def matriz_H(n):\n",
        "    a = diagonal(n)\n",
        "    res = np.diag(a[0])\n",
        "    for k in range(1, len(a)):\n",
        "        res += np.diag(a[k], k=k) + np.diag(a[k], k = -k)\n",
        "    return res\n",
        "\n",
        "\n",
        "#print (matriz_H(4))"
      ]
    },
    {
      "cell_type": "markdown",
      "metadata": {
        "id": "7eEfvH42XDN6"
      },
      "source": [
        "**(b)** Graficar para 100 vectores **unitarios** (en norma 2), $v\\in\\mathbb{R^2}$, $\\; A_2v,\\ B_2v,\\ H_2v$"
      ]
    },
    {
      "cell_type": "code",
      "execution_count": 20,
      "metadata": {
        "id": "a9PLSevGBdyP",
        "colab": {
          "base_uri": "https://localhost:8080/",
          "height": 447
        },
        "outputId": "f953cb99-1244-4ff2-9d31-74842fd8db72"
      },
      "outputs": [
        {
          "output_type": "execute_result",
          "data": {
            "text/plain": [
              "<matplotlib.legend.Legend at 0x7ead0bf8cfd0>"
            ]
          },
          "metadata": {},
          "execution_count": 20
        },
        {
          "output_type": "display_data",
          "data": {
            "text/plain": [
              "<Figure size 640x480 with 1 Axes>"
            ],
            "image/png": "[encoded data removed]"
          },
          "metadata": {}
        }
      ],
      "source": [
        "A = matriz_A(2)\n",
        "B = matriz_B(2)\n",
        "H = matriz_H(2)\n",
        "V = np.random.rand(2, 100) - 0.5\n",
        "\n",
        "norms = 1/np.linalg.norm(V, axis = 0)\n",
        "\n",
        "\n",
        "\n",
        "V = V * norms\n",
        "BV = B @ V\n",
        "AV = A @ V\n",
        "HV = H @ V\n",
        "\n",
        "\n",
        "plt.scatter(V[0], V[1], label = \"v\")\n",
        "plt.scatter(BV[0], BV[1], label = \"Bv\")\n",
        "plt.scatter(AV[0], AV[1], label = \"Av\")\n",
        "plt.scatter(HV[0], HV[1], label = \"Hv\")\n",
        "plt.legend()\n"
      ]
    },
    {
      "cell_type": "markdown",
      "metadata": {
        "id": "Md7M-6jCBdyR"
      },
      "source": [
        "**(c)** Programar una función que, dada una matriz $M_n$ y un número natural $N$, guarde en un vector el valor de $Cond_2(M_n)$ para $1\\leq n \\leq N$."
      ]
    },
    {
      "cell_type": "code",
      "execution_count": 21,
      "metadata": {
        "id": "34JfYEu3XdNy",
        "colab": {
          "base_uri": "https://localhost:8080/"
        },
        "outputId": "077315f2-ce3b-4296-f5c3-4e56d8612b83"
      },
      "outputs": [
        {
          "output_type": "stream",
          "name": "stdout",
          "text": [
            "[1.00000000e+00 1.92814701e+01 5.24056778e+02 1.55137387e+04]\n"
          ]
        }
      ],
      "source": [
        "def vector_condicion(M, N):\n",
        "    condiciones = []\n",
        "    for n in range(1, N + 1):\n",
        "        matriz = M(n)\n",
        "        cond = np.linalg.cond(matriz, 2)\n",
        "        condiciones.append(cond)\n",
        "    return np.array(condiciones)\n",
        "\n",
        "print(vector_condicion(matriz_H, 4))"
      ]
    },
    {
      "cell_type": "markdown",
      "metadata": {
        "id": "9Ehr99OvXyy_"
      },
      "source": [
        "**(d)** Realizar gráficos del número de condición en norma 2 de las matrices definidas arriba para $N=10$.\n"
      ]
    },
    {
      "cell_type": "code",
      "execution_count": null,
      "metadata": {
        "id": "iHmlrA7sZf-n"
      },
      "outputs": [],
      "source": [
        "x= #COMPLETAR\n",
        "y= #COMPLETAR\n",
        "\n",
        "plt.plot(x, y)\n",
        "plt.show()"
      ]
    },
    {
      "cell_type": "markdown",
      "metadata": {
        "id": "eZaokS9SaAuA"
      },
      "source": [
        "**Sugerencia:** Si es necesario, utilizar una escala logarítmica en el eje $y$."
      ]
    },
    {
      "cell_type": "markdown",
      "metadata": {
        "id": "fpFKeooJafn3"
      },
      "source": [
        "**(e)** Repetir el ítem (d) para la matriz de Hilbert con $N=50$. ¿Cómo se explica el comportamiento observado?"
      ]
    },
    {
      "cell_type": "code",
      "execution_count": null,
      "metadata": {
        "id": "XARk-RBZcvqG"
      },
      "outputs": [],
      "source": [
        "#COMPLETAR"
      ]
    },
    {
      "cell_type": "markdown",
      "metadata": {
        "id": "bmaVGeUleqwI"
      },
      "source": [
        "## Ejercicio 3 (Ej 20 - Práctica 2)"
      ]
    },
    {
      "cell_type": "markdown",
      "metadata": {
        "id": "P4mH1SW6fmBb"
      },
      "source": [
        "Sea\n",
        "$A=\\left(\n",
        "\\begin{array}{ccc}\n",
        "3&0 & 0\\\\\n",
        "0& \\frac 54 & \\frac 34\\\\\n",
        "0& \\frac 34 & \\frac 54\\\\\n",
        "\\end{array}\n",
        "\\right).$\n",
        "\n"
      ]
    },
    {
      "cell_type": "code",
      "execution_count": null,
      "metadata": {
        "id": "-0sjdy5Ml4k_"
      },
      "outputs": [],
      "source": [
        "A = np.array([[3.0, 0, 0], [0, 5/4, 3/4], [0, 3/4, 5/4]])"
      ]
    },
    {
      "cell_type": "markdown",
      "metadata": {
        "id": "M-TFe8n7gMXJ"
      },
      "source": [
        "(a) Calcular $Cond_\\infty(A)$.\n"
      ]
    },
    {
      "cell_type": "code",
      "execution_count": null,
      "metadata": {
        "id": "k5jQ_Wz-l2I2"
      },
      "outputs": [],
      "source": [
        "#COMPLETAR"
      ]
    },
    {
      "cell_type": "markdown",
      "metadata": {
        "id": "jlUl52wZgPjD"
      },
      "source": [
        "(b) ¿Cuán chico debe ser el error relativo en los datos, $\\frac{\\|b-\\tilde{b}\\|}{\\|b\\|}$, si se desea que el error relativo en la aproximación de la solución, $\\frac{\\|x-\\tilde{x}\\|}{\\|x\\|}, $ sea menor que $10^{-4}$ (en $\\|\\cdot\\|_{\\infty}$)?\n",
        "\n"
      ]
    },
    {
      "cell_type": "code",
      "execution_count": null,
      "metadata": {
        "id": "mqL4_Sjgl2r3"
      },
      "outputs": [],
      "source": [
        "#COMPLETAR"
      ]
    },
    {
      "cell_type": "markdown",
      "metadata": {
        "id": "2wRP31mSgQ5c"
      },
      "source": [
        "(c) Realizar experimentos numéricos para verificar las estimaciones del ítem anterior. Considerar $b=(3,2,2)^t$, que se corresponde con la solución exacta $x=(1,1,1)^t$. Generar vectores de error aleatorios, normalizarlos para que su norma sea tan chica como la estimada en el item anterior y perturbar $b$ obteniendo $\\tilde{b}$. Finalmente, resolver $A\\tilde{x}=\\tilde{b}$ y verificar que $\\|\\tilde{x}-x\\|<10^{-4}$."
      ]
    },
    {
      "cell_type": "code",
      "execution_count": null,
      "metadata": {
        "id": "5nggErzxl3In"
      },
      "outputs": [],
      "source": [
        "#COMPLETAR"
      ]
    }
  ],
  "metadata": {
    "colab": {
      "provenance": [],
      "include_colab_link": true
    },
    "kernelspec": {
      "display_name": "Python 3 (ipykernel)",
      "language": "python",
      "name": "python3"
    },
    "language_info": {
      "codemirror_mode": {
        "name": "ipython",
        "version": 3
      },
      "file_extension": ".py",
      "mimetype": "text/x-python",
      "name": "python",
      "nbconvert_exporter": "python",
      "pygments_lexer": "ipython3",
      "version": "3.10.4"
    }
  },
  "nbformat": 4,
  "nbformat_minor": 0
}